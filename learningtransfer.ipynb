{
  "nbformat": 4,
  "nbformat_minor": 0,
  "metadata": {
    "colab": {
      "provenance": [],
      "toc_visible": true,
      "authorship_tag": "ABX9TyMcQGS+71DLnODNGHA8JPo/",
      "include_colab_link": true
    },
    "kernelspec": {
      "name": "python3",
      "display_name": "Python 3"
    },
    "language_info": {
      "name": "python"
    }
  },
  "cells": [
    {
      "cell_type": "markdown",
      "metadata": {
        "id": "view-in-github",
        "colab_type": "text"
      },
      "source": [
        "<a href=\"https://colab.research.google.com/github/esleylab/machinelearning/blob/From-directory/learningtransfer.ipynb\" target=\"_parent\"><img src=\"https://colab.research.google.com/assets/colab-badge.svg\" alt=\"Open In Colab\"/></a>"
      ]
    },
    {
      "cell_type": "code",
      "execution_count": 52,
      "metadata": {
        "id": "a0WYXtKC5yju"
      },
      "outputs": [],
      "source": [
        "%matplotlib inline\n",
        "\n",
        "import os\n",
        "\n",
        "#if using Theano with GPU\n",
        "#os.environ[\"KERAS_BACKEND\"] = \"tensorflow\"\n",
        "\n",
        "import random\n",
        "import numpy as np\n",
        "import keras\n",
        "from keras.preprocessing import image\n",
        "from keras.applications.imagenet_utils import preprocess_input\n",
        "from keras.models import Sequential\n",
        "from keras.layers import Dense, Dropout, Flatten, Activation\n",
        "from keras.layers import Conv2D, MaxPooling2D\n",
        "from keras.models import Model\n",
        "\n",
        "import matplotlib.pyplot as plt\n",
        "from matplotlib.pyplot import imshow\n",
        "\n",
        "import tensorflow_datasets as tfds\n",
        "\n",
        "# Baixando o dataset Cats vs Dogs\n",
        "dataset_name = \"cats_vs_dogs\"\n",
        "data, info = tfds.load(dataset_name, as_supervised=True, with_info=True)\n",
        "\n",
        "# Dividindo em treino e teste\n",
        "train_data = data['train'].take(int(info.splits['train'].num_examples * 0.8)) # Seleciona 80% dos dados de treino\n",
        "test_data = data['train'].skip(int(info.splits['train'].num_examples * 0.2)) # Skip 80% para selecionar os 20% restantes para teste\n",
        "processed = False\n",
        "\n",
        "# Informações do dataset\n",
        "#print(info)\n"
      ]
    },
    {
      "cell_type": "code",
      "source": [
        "import os\n",
        "from PIL import Image\n",
        "import tensorflow as tf\n",
        "import numpy as np\n",
        "\n",
        "import shutil\n",
        "\n",
        "# Caminho da pasta que você deseja deletar\n",
        "pasta_para_deletar = \"/content/imagens/cats_dogs\"\n",
        "# Deletar a pasta e todo o seu conteúdo\n",
        "try:\n",
        "    shutil.rmtree(pasta_para_deletar)\n",
        "    print(f\"A pasta '{pasta_para_deletar}' foi deletada com sucesso.\")\n",
        "except FileNotFoundError:\n",
        "    print(f\"A pasta '{pasta_para_deletar}' não foi encontrada.\")\n",
        "except PermissionError:\n",
        "    print(f\"Sem permissão para deletar a pasta '{pasta_para_deletar}'.\")\n",
        "except Exception as e:\n",
        "    print(f\"Ocorreu um erro ao tentar deletar a pasta: {e}\")\n",
        "\n",
        "# Caminho da pasta onde as imagens serão salvas\n",
        "base_dir = \"./imagens/cats_dogs\"\n",
        "cats_dir = os.path.join(base_dir, 'cats')\n",
        "dogs_dir = os.path.join(base_dir, 'dogs')\n",
        "img_size=(128, 128)\n",
        "\n",
        "# Criar os diretórios, se não existirem\n",
        "os.makedirs(base_dir, exist_ok=True)\n",
        "os.makedirs(cats_dir, exist_ok=True)\n",
        "os.makedirs(dogs_dir, exist_ok=True)\n",
        "\n",
        "def salvar_imagens(dataset, pasta_base):\n",
        "    for i, (imagem, label) in enumerate(dataset.take(200)):  # Itera por todo o dataset\n",
        "        # Redimensionar imagem para garantir que tenha tamanho adequado para salvar\n",
        "        imagem = tf.image.resize(imagem, img_size)\n",
        "\n",
        "        # Convert the image to uint8 before saving\n",
        "        imagem = tf.cast(imagem * 255, dtype=tf.uint8) # Convert to uint8\n",
        "        # Converter tensor para formato de imagem\n",
        "        imagem_pil = Image.fromarray(imagem.numpy())  # Convertendo tensor para imagem PIL\n",
        "\n",
        "        # Determinar a subpasta com base no rótulo\n",
        "        subpasta = \"cats\" if label.numpy() == 0 else \"dogs\"\n",
        "        caminho_pasta = os.path.join(pasta_base, subpasta)  # Criar a pasta 'cats' ou 'dogs'\n",
        "\n",
        "        # Definir o nome e caminho do arquivo\n",
        "        nome_arquivo = f\"{subpasta}_{i}.jpg\"\n",
        "        caminho_arquivo = os.path.join(caminho_pasta, nome_arquivo)\n",
        "\n",
        "        # Salvar a imagem\n",
        "        imagem_pil.save(caminho_arquivo, \"JPEG\")\n",
        "\n",
        "# Salvar imagens dos conjuntos de treino e teste\n",
        "salvar_imagens(data['train'], base_dir)\n"
      ],
      "metadata": {
        "colab": {
          "base_uri": "https://localhost:8080/"
        },
        "id": "B_UUTogToaeh",
        "outputId": "843b05a9-4bf5-422c-a380-dff35b138383"
      },
      "execution_count": 53,
      "outputs": [
        {
          "output_type": "stream",
          "name": "stdout",
          "text": [
            "A pasta '/content/imagens/cats_dogs' foi deletada com sucesso.\n"
          ]
        }
      ]
    },
    {
      "cell_type": "code",
      "source": [
        "import shutil\n",
        "\n",
        "# Caminho da pasta que você deseja deletar\n",
        "pasta_para_deletar = \"/content/imagens/cats_dogs\"\n",
        "# Deletar a pasta e todo o seu conteúdo\n",
        "try:\n",
        "    shutil.rmtree(pasta_para_deletar)\n",
        "    print(f\"A pasta '{pasta_para_deletar}' foi deletada com sucesso.\")\n",
        "except FileNotFoundError:\n",
        "    print(f\"A pasta '{pasta_para_deletar}' não foi encontrada.\")\n",
        "except PermissionError:\n",
        "    print(f\"Sem permissão para deletar a pasta '{pasta_para_deletar}'.\")\n",
        "except Exception as e:\n",
        "    print(f\"Ocorreu um erro ao tentar deletar a pasta: {e}\")\n"
      ],
      "metadata": {
        "colab": {
          "base_uri": "https://localhost:8080/"
        },
        "id": "gxGtk2m2rrf_",
        "outputId": "9afbed3f-ada1-4a17-ae2e-9b256723302b"
      },
      "execution_count": 11,
      "outputs": [
        {
          "output_type": "stream",
          "name": "stdout",
          "text": [
            "A pasta '/content/imagens/cats_dogs' foi deletada com sucesso.\n"
          ]
        }
      ]
    },
    {
      "cell_type": "code",
      "source": [
        "import os\n",
        "import numpy as np\n",
        "from PIL import Image\n",
        "\n",
        "# Supondo que categories seja uma lista de subpastas com as categorias\n",
        "# base_dir é o diretório onde as imagens estão armazenadas\n",
        "\n",
        "categories = ['cats', 'dogs']  # Exemplo de categorias\n",
        "\n",
        "data = []\n",
        "\n",
        "\n",
        "# Função para carregar e processar imagens\n",
        "def get_image(img_path):\n",
        "    try:\n",
        "        img = Image.open(img_path)\n",
        "        img = img.convert('RGB')  # Garantir que a imagem tenha 3 canais (RGB)\n",
        "        img = np.array(img)  # Converter a imagem para um array numpy\n",
        "        return img, img.size  # Retornar imagem e tamanho\n",
        "    except Exception as e:\n",
        "        print(f\"Erro ao carregar a imagem {img_path}: {e}\")\n",
        "        return None, None\n",
        "\n",
        "# Iterar sobre todas as categorias e imagens\n",
        "for c, category in enumerate(categories):\n",
        "    category_path = os.path.join(base_dir, category)\n",
        "    images = [os.path.join(category_path, f) for f in os.listdir(category_path)\n",
        "              if os.path.splitext(f)[1].lower() in ['.jpg', '.png', '.jpeg']]\n",
        "\n",
        "    print(f\"Caminho: {category_path}, Quantidade de imagens: {len(images)}\")\n",
        "\n",
        "    for img_path in images:\n",
        "        img, x = get_image(img_path)\n",
        "        if img is not None:\n",
        "            data.append({'x': img, 'y': c})  # Adiciona a imagem e o rótulo à lista cat = 0 dog = 1\n",
        "\n",
        "# Contar o número de classes\n",
        "num_classes = len(categories)\n",
        "print(f\"Número de classes: {num_classes}\")\n"
      ],
      "metadata": {
        "id": "gC5IlyMmhcD2",
        "outputId": "6667ee40-707e-4e1b-a2d4-5a05dde84106",
        "colab": {
          "base_uri": "https://localhost:8080/"
        }
      },
      "execution_count": 58,
      "outputs": [
        {
          "output_type": "stream",
          "name": "stdout",
          "text": [
            "Caminho: ./imagens/cats_dogs/cats, Quantidade de imagens: 92\n",
            "Caminho: ./imagens/cats_dogs/dogs, Quantidade de imagens: 108\n",
            "Número de classes: 2\n"
          ]
        }
      ]
    },
    {
      "cell_type": "code",
      "source": [
        "for item in data:\n",
        "    print(item['x'])\n",
        "    print(item['y'])\n",
        "\n",
        "print(len(data))\n",
        "print(categories)"
      ],
      "metadata": {
        "id": "3SCwA0HEh2uB",
        "outputId": "8e015c40-c356-43c5-8a0f-0c40cddad8fa",
        "colab": {
          "base_uri": "https://localhost:8080/"
        }
      },
      "execution_count": 45,
      "outputs": [
        {
          "output_type": "stream",
          "name": "stdout",
          "text": [
            "0\n",
            "['cats', 'dogs']\n"
          ]
        }
      ]
    }
  ]
}