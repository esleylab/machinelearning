{
  "nbformat": 4,
  "nbformat_minor": 0,
  "metadata": {
    "colab": {
      "provenance": [],
      "authorship_tag": "ABX9TyMSPay8mvstvcRy5fpXb9eX",
      "include_colab_link": true
    },
    "kernelspec": {
      "name": "python3",
      "display_name": "Python 3"
    },
    "language_info": {
      "name": "python"
    }
  },
  "cells": [
    {
      "cell_type": "markdown",
      "metadata": {
        "id": "view-in-github",
        "colab_type": "text"
      },
      "source": [
        "<a href=\"https://colab.research.google.com/github/esleylab/machinelearning/blob/main/learningtransfer.ipynb\" target=\"_parent\"><img src=\"https://colab.research.google.com/assets/colab-badge.svg\" alt=\"Open In Colab\"/></a>"
      ]
    },
    {
      "cell_type": "code",
      "execution_count": 16,
      "metadata": {
        "id": "a0WYXtKC5yju"
      },
      "outputs": [],
      "source": [
        "%matplotlib inline\n",
        "\n",
        "import os\n",
        "\n",
        "#if using Theano with GPU\n",
        "#os.environ[\"KERAS_BACKEND\"] = \"tensorflow\"\n",
        "\n",
        "import random\n",
        "import numpy as np\n",
        "import keras\n",
        "\n",
        "import matplotlib.pyplot as plt\n",
        "from matplotlib.pyplot import imshow\n",
        "\n",
        "from keras.preprocessing import image\n",
        "from keras.applications.imagenet_utils import preprocess_input\n",
        "from keras.models import Sequential\n",
        "from keras.layers import Dense, Dropout, Flatten, Activation\n",
        "from keras.layers import Conv2D, MaxPooling2D\n",
        "from keras.models import Model\n",
        "\n",
        "import tensorflow_datasets as tfds\n",
        "\n",
        "# Baixando o dataset Cats vs Dogs\n",
        "dataset_name = \"cats_vs_dogs\"\n",
        "data, info = tfds.load(dataset_name, as_supervised=True, with_info=True)\n",
        "\n",
        "# Dividindo em treino e teste\n",
        "train_data = data['train'].take(int(info.splits['train'].num_examples * 0.8)) # Seleciona 80% dos dados de treino\n",
        "test_data = data['train'].skip(int(info.splits['train'].num_examples * 0.2)) # Skip 80% para selecionar os 20% restantes para teste\n",
        "processed = False\n",
        "\n",
        "# Informações do dataset\n",
        "#print(info)\n"
      ]
    },
    {
      "cell_type": "code",
      "source": [
        "import tensorflow as tf\n",
        "\n",
        "# Função de preprocessamento\n",
        "def preprocess(image, label):\n",
        "    image = tf.image.resize(image, (128, 128))  # Redimensiona para diminuir processamento\n",
        "    image = image / 255.0  # Normaliza para o intervalo [0, 1]\n",
        "    return image, label\n",
        "\n",
        "# Aplicar preprocessamento e criar batches\n",
        "if not processed:\n",
        "  batch_size = 32\n",
        "  train_data = train_data.map(preprocess).batch(batch_size).shuffle(1000)\n",
        "  test_data = test_data.map(preprocess).batch(batch_size)\n",
        "  processed = True #Controle para não processar 2x\n",
        "\n",
        "# Visualizando um lote de imagens\n",
        "import matplotlib.pyplot as plt\n",
        "\n",
        "for images, labels in train_data.take(1):\n",
        "    plt.figure(figsize=(10, 10))\n",
        "    for i in range(9):\n",
        "        plt.subplot(3, 3, i + 1)\n",
        "        plt.imshow(images[i])\n",
        "        plt.title(\"Gato\" if labels[i] == 0 else \"Cachorro\")\n",
        "        plt.axis(\"off\")\n",
        "    plt.show()"
      ],
      "metadata": {
        "id": "J_ufJWoSEo_1"
      },
      "execution_count": null,
      "outputs": []
    }
  ]
}