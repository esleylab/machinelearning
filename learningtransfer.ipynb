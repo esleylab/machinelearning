{
  "nbformat": 4,
  "nbformat_minor": 0,
  "metadata": {
    "colab": {
      "provenance": [],
      "authorship_tag": "ABX9TyO0jOMZcZz4AQ2b7dj/ckK3",
      "include_colab_link": true
    },
    "kernelspec": {
      "name": "python3",
      "display_name": "Python 3"
    },
    "language_info": {
      "name": "python"
    }
  },
  "cells": [
    {
      "cell_type": "markdown",
      "metadata": {
        "id": "view-in-github",
        "colab_type": "text"
      },
      "source": [
        "<a href=\"https://colab.research.google.com/github/esleylab/machinelearning/blob/main/learningtransfer.ipynb\" target=\"_parent\"><img src=\"https://colab.research.google.com/assets/colab-badge.svg\" alt=\"Open In Colab\"/></a>"
      ]
    },
    {
      "cell_type": "code",
      "execution_count": 16,
      "metadata": {
        "id": "a0WYXtKC5yju",
        "colab": {
          "base_uri": "https://localhost:8080/"
        },
        "outputId": "803d7473-6c45-4304-9991-5b33d8908d20"
      },
      "outputs": [
        {
          "output_type": "stream",
          "name": "stdout",
          "text": [
            "tfds.core.DatasetInfo(\n",
            "    name='cats_vs_dogs',\n",
            "    full_name='cats_vs_dogs/4.0.1',\n",
            "    description=\"\"\"\n",
            "    A large set of images of cats and dogs. There are 1738 corrupted images that are dropped.\n",
            "    \"\"\",\n",
            "    homepage='https://www.microsoft.com/en-us/download/details.aspx?id=54765',\n",
            "    data_dir='/root/tensorflow_datasets/cats_vs_dogs/4.0.1',\n",
            "    file_format=tfrecord,\n",
            "    download_size=Unknown size,\n",
            "    dataset_size=1.04 GiB,\n",
            "    features=FeaturesDict({\n",
            "        'image': Image(shape=(None, None, 3), dtype=uint8),\n",
            "        'image/filename': Text(shape=(), dtype=string),\n",
            "        'label': ClassLabel(shape=(), dtype=int64, num_classes=2),\n",
            "    }),\n",
            "    supervised_keys=('image', 'label'),\n",
            "    disable_shuffling=False,\n",
            "    splits={\n",
            "        'train': <SplitInfo num_examples=23262, num_shards=16>,\n",
            "    },\n",
            "    citation=\"\"\"@Inproceedings (Conference){asirra-a-captcha-that-exploits-interest-aligned-manual-image-categorization,\n",
            "    author = {Elson, Jeremy and Douceur, John (JD) and Howell, Jon and Saul, Jared},\n",
            "    title = {Asirra: A CAPTCHA that Exploits Interest-Aligned Manual Image Categorization},\n",
            "    booktitle = {Proceedings of 14th ACM Conference on Computer and Communications Security (CCS)},\n",
            "    year = {2007},\n",
            "    month = {October},\n",
            "    publisher = {Association for Computing Machinery, Inc.},\n",
            "    url = {https://www.microsoft.com/en-us/research/publication/asirra-a-captcha-that-exploits-interest-aligned-manual-image-categorization/},\n",
            "    edition = {Proceedings of 14th ACM Conference on Computer and Communications Security (CCS)},\n",
            "    }\"\"\",\n",
            ")\n"
          ]
        }
      ],
      "source": [
        "%matplotlib inline\n",
        "\n",
        "import os\n",
        "\n",
        "#if using Theano with GPU\n",
        "#os.environ[\"KERAS_BACKEND\"] = \"tensorflow\"\n",
        "\n",
        "import random\n",
        "import numpy as np\n",
        "import keras\n",
        "\n",
        "import matplotlib.pyplot as plt\n",
        "from matplotlib.pyplot import imshow\n",
        "\n",
        "from keras.preprocessing import image\n",
        "from keras.applications.imagenet_utils import preprocess_input\n",
        "from keras.models import Sequential\n",
        "from keras.layers import Dense, Dropout, Flatten, Activation\n",
        "from keras.layers import Conv2D, MaxPooling2D\n",
        "from keras.models import Model\n",
        "\n",
        "import tensorflow_datasets as tfds\n",
        "\n",
        "# Baixando o dataset Cats vs Dogs\n",
        "dataset_name = \"cats_vs_dogs\"\n",
        "data, info = tfds.load(dataset_name, as_supervised=True, with_info=True)\n",
        "\n",
        "# Dividindo em treino e teste\n",
        "train_data = data['train'].take(int(info.splits['train'].num_examples * 0.8)) # Seleciona 80% dos dados de treino\n",
        "test_data = data['train'].skip(int(info.splits['train'].num_examples * 0.2)) # Skip 80% para selecionar os 20% restantes para teste\n",
        "\n",
        "# Informações do dataset\n",
        "print(info)\n"
      ]
    }
  ]
}